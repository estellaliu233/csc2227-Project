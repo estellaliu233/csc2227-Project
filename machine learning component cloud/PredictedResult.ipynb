{
 "cells": [
  {
   "cell_type": "code",
   "execution_count": 4,
   "id": "70fe6a1c",
   "metadata": {},
   "outputs": [],
   "source": [
    "import boto3\n",
    "import pandas as pd\n",
    "\n",
    "# specify bucket name\n",
    "bucket_name = 'estellaliuml'\n",
    "output_folder = r'model/model/'\n",
    "s3_model_output_location = r's3://{0}/model/model'.format(bucket_name)"
   ]
  },
  {
   "cell_type": "code",
   "execution_count": 6,
   "id": "5a813af2",
   "metadata": {},
   "outputs": [],
   "source": [
    "def write_to_s3(filename,bucket,key):\n",
    "    with open(filename,\"rb\") as f: # Read in binary mode\n",
    "        return boto3.Session().resource(\"s3\").Bucket(bucket).Object(key).upload_fileobj(f)"
   ]
  },
  {
   "cell_type": "code",
   "execution_count": 3,
   "id": "ec9583bb",
   "metadata": {},
   "outputs": [],
   "source": [
    "write_to_s3(\"predicted.csv\", bucket_name, output_folder+\"predicted.csv\")"
   ]
  },
  {
   "cell_type": "code",
   "execution_count": 10,
   "id": "b5fa74bd",
   "metadata": {},
   "outputs": [],
   "source": [
    "tfr = pd.read_csv('predicted.csv', nrows=10000)"
   ]
  },
  {
   "cell_type": "code",
   "execution_count": 11,
   "id": "67f756dd",
   "metadata": {},
   "outputs": [],
   "source": [
    "tfr.to_csv(\"sample.csv\")"
   ]
  },
  {
   "cell_type": "code",
   "execution_count": 14,
   "id": "e6ec8a56",
   "metadata": {},
   "outputs": [],
   "source": [
    "tfr.drop(inplace=True,columns=[\"PricePerUnit\"])"
   ]
  },
  {
   "cell_type": "code",
   "execution_count": 15,
   "id": "c4fbd555",
   "metadata": {},
   "outputs": [],
   "source": [
    "tfr.to_csv(\"csvfeeder.csv\")"
   ]
  },
  {
   "cell_type": "code",
   "execution_count": null,
   "id": "5b972d7e",
   "metadata": {},
   "outputs": [],
   "source": []
  }
 ],
 "metadata": {
  "kernelspec": {
   "display_name": "conda_python3",
   "language": "python",
   "name": "conda_python3"
  },
  "language_info": {
   "codemirror_mode": {
    "name": "ipython",
    "version": 3
   },
   "file_extension": ".py",
   "mimetype": "text/x-python",
   "name": "python",
   "nbconvert_exporter": "python",
   "pygments_lexer": "ipython3",
   "version": "3.6.13"
  }
 },
 "nbformat": 4,
 "nbformat_minor": 5
}
