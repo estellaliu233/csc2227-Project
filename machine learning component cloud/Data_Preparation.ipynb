{
 "cells": [
  {
   "cell_type": "code",
   "execution_count": 1,
   "id": "cc455d55",
   "metadata": {},
   "outputs": [],
   "source": [
    "# import libraries\n",
    "import requests\n",
    "import boto3\n",
    "import sagemaker.amazon.common as smac\n",
    "import re\n",
    "import pandas as pd\n",
    "import numpy as np\n",
    "import sagemaker\n",
    "from sagemaker import get_execution_role\n",
    "from datetime import timedelta\n",
    "from sklearn.preprocessing import LabelEncoder"
   ]
  },
  {
   "cell_type": "code",
   "execution_count": 2,
   "id": "0af34103",
   "metadata": {},
   "outputs": [],
   "source": [
    "# specify bucket name\n",
    "s3_bucket_name = 'estellaliuml'\n",
    "bucket_name = 'estellaliuml'\n",
    "training_folder = r'model/training/'\n",
    "validation_folder = r'model/validation/'\n",
    "test_folder = r'model/test/'\n",
    "\n",
    "s3_model_output_location = r's3://{0}/model/model'.format(bucket_name)\n",
    "s3_model_training_file_location = r\"s3://{0}/{1}\".format(bucket_name,training_folder)\n",
    "s3_validation_file_location = r\"s3://{0}/{1}\".format(bucket_name,validation_folder)\n",
    "s3_test_file_location = r's3://{0}/{1}'.format(bucket_name,test_folder)"
   ]
  },
  {
   "cell_type": "code",
   "execution_count": 3,
   "id": "e14a0898",
   "metadata": {},
   "outputs": [
    {
     "data": {
      "text/plain": [
       "'index.csv'"
      ]
     },
     "execution_count": 3,
     "metadata": {},
     "output_type": "execute_result"
    }
   ],
   "source": [
    "# import the dataset\n",
    "url = \"https://pricing.us-east-1.amazonaws.com/offers/v1.0/aws/AmazonEC2/current/index.csv\"\n",
    "\n",
    "def download_file(url):\n",
    "    local_filename = url.split('/')[-1]\n",
    "    # NOTE the stream=True parameter\n",
    "    r = requests.get(url, stream=True)\n",
    "    with open(local_filename, 'wb') as f:\n",
    "        for chunk in r.iter_content(chunk_size=1024): \n",
    "            if chunk: # filter out keep-alive new chunks\n",
    "                f.write(chunk)\n",
    "                #f.flush() commented by recommendation from J.F.Sebastian\n",
    "    return local_filename\n",
    "\n",
    "download_file(url)"
   ]
  },
  {
   "cell_type": "code",
   "execution_count": 3,
   "id": "47a6696d",
   "metadata": {},
   "outputs": [
    {
     "name": "stderr",
     "output_type": "stream",
     "text": [
      "/home/ec2-user/anaconda3/envs/python3/lib/python3.6/site-packages/IPython/core/interactiveshell.py:3072: DtypeWarning: Columns (11,29,30,31,32,33,34,35,37,40,41,42,43,44,45,46,51,54,57,58,82,83,85,86) have mixed types.Specify dtype option on import or set low_memory=False.\n",
      "  interactivity=interactivity, compiler=compiler, result=result)\n"
     ]
    }
   ],
   "source": [
    "tfr = pd.read_csv('index.csv', skiprows=5)"
   ]
  },
  {
   "cell_type": "code",
   "execution_count": 4,
   "id": "ec405bd8",
   "metadata": {},
   "outputs": [],
   "source": [
    "# trim dataset\n",
    "temp = tfr.loc[(tfr.Unit==\"Hrs\")]\n",
    "newdata = temp[[\"EffectiveDate\",\"PricePerUnit\",\"Location\",\"Instance Type\", \"Operating System\"]]\n",
    "\n",
    "# data quality check\n",
    "newdata.isnull().sum()\n",
    "newdata2 = newdata.dropna()"
   ]
  },
  {
   "cell_type": "code",
   "execution_count": 5,
   "id": "963a52bf",
   "metadata": {},
   "outputs": [
    {
     "name": "stdout",
     "output_type": "stream",
     "text": [
      "['US East (Ohio)' 'US West (Oregon)' 'AWS GovCloud (US-West)'\n",
      " 'US East (N. Virginia)' 'Asia Pacific (Tokyo)' 'EU (London)'\n",
      " 'Middle East (Bahrain)' 'US West (N. California)'\n",
      " 'AWS GovCloud (US-East)' 'Asia Pacific (Osaka)' 'Asia Pacific (Seoul)'\n",
      " 'Asia Pacific (Sydney)' 'Canada (Central)' 'EU (Frankfurt)' 'EU (Milan)'\n",
      " 'Asia Pacific (Singapore)' 'EU (Ireland)' 'Asia Pacific (Hong Kong)'\n",
      " 'South America (Sao Paulo)' 'EU (Stockholm)' 'US West (Los Angeles)'\n",
      " 'EU (Paris)' 'Asia Pacific (Mumbai)' 'Africa (Cape Town)'\n",
      " 'US West (Verizon) - Las Vegas' 'US East (Philadelphia)'\n",
      " 'US West (Verizon) - Denver' 'US West (Verizon) - Phoenix'\n",
      " 'US West (Denver)' 'US East (Verizon) - Boston'\n",
      " 'US West (Verizon) - Seattle' 'US East (Verizon) - Miami'\n",
      " 'US East (Verizon) - Dallas' 'US East (Houston)'\n",
      " 'US West (Verizon) - San Francisco Bay Area'\n",
      " 'US East (Verizon) - Chicago' 'US East (Verizon) - Atlanta'\n",
      " 'US East (Verizon) - New York' 'US East (Miami)'\n",
      " 'US East (Verizon) - Houston' 'Asia Pacific (KDDI) - Osaka'\n",
      " 'Asia Pacific (KDDI) - Tokyo' 'US East (Verizon) - Washington DC'\n",
      " 'US East (Boston)' 'US East (Dallas)' 'EU West (Vodafone) - London'\n",
      " 'Asia Pacific (SKT) - Daejeon']\n",
      "['m4.xlarge' 't4g.medium' 'r5dn.metal' 'r5ad.xlarge' 'i3.xlarge'\n",
      " 'r6g.xlarge' 'c5ad.2xlarge' 'r5d.8xlarge' 'm3.xlarge' 'm5ad.2xlarge'\n",
      " 'c5n.xlarge' 'r5n.8xlarge' 'x1.32xlarge' 'm5.8xlarge' 'i3en.12xlarge'\n",
      " 'r5.4xlarge' 'm5a.16xlarge' 'x1.16xlarge' 'c5.4xlarge' 't3a.large'\n",
      " 'r5d.2xlarge' 'r4.xlarge' 'c5d.metal' 'm5d.12xlarge' 'h1.4xlarge'\n",
      " 'c5a.4xlarge' 'm4.16xlarge' 'u-9tb1.112xlarge' 'r5ad.12xlarge'\n",
      " 'r5a.large' 'g4dn.metal' 'r3.xlarge' 'm5zn.xlarge' 'i3en.large'\n",
      " 'r5dn.2xlarge' 'm6g.8xlarge' 'r6g.metal' 'm5.metal' 'r5.xlarge'\n",
      " 'r3.large' 'c5n.2xlarge' 'r4.16xlarge' 'z1d.6xlarge' 'i3en.metal'\n",
      " 'm5d.4xlarge' 'i2.8xlarge' 'inf1.6xlarge' 'm5d.large' 'inf1.2xlarge'\n",
      " 'r5ad.4xlarge' 'r5.16xlarge' 'i3en.3xlarge' 'c5d.12xlarge' 'c3.xlarge'\n",
      " 'c6gd.8xlarge' 'r5dn.8xlarge' 't2.2xlarge' 'g2.2xlarge' 'm6gd.16xlarge'\n",
      " 'm5a.4xlarge' 'm5a.large' 'g4dn.12xlarge' 'm5n.xlarge' 'c5.metal'\n",
      " 'c5n.18xlarge' 'inf1.xlarge' 'x1e.2xlarge' 'c5n.4xlarge' 'm5.xlarge'\n",
      " 'i3.4xlarge' 'm5.12xlarge' 'm5ad.4xlarge' 'm5.2xlarge' 'r5a.xlarge'\n",
      " 'c5.2xlarge' 'x1e.32xlarge' 'c5n.metal' 'm5.large' 'r5n.xlarge'\n",
      " 'r5b.large' 'r3.8xlarge' 'r5d.xlarge' 'r5a.8xlarge' 'r5d.16xlarge'\n",
      " 'c5.12xlarge' 'm5ad.12xlarge' 'm5dn.4xlarge' 'x1e.4xlarge' 'c5a.12xlarge'\n",
      " 'g3.8xlarge' 'r5a.24xlarge' 'r5n.24xlarge' 'c5ad.24xlarge' 'm5d.2xlarge'\n",
      " 'r5.large' 'i3en.xlarge' 'm5n.metal' 'g2.8xlarge' 'm5dn.8xlarge'\n",
      " 'i3.large' 'm5a.xlarge' 'r5ad.16xlarge' 'c3.4xlarge' 'm5d.xlarge'\n",
      " 'r6g.4xlarge' 'r5d.metal' 'm5.16xlarge' 't3.large' 'r5d.4xlarge'\n",
      " 'c3.2xlarge' 't2.small' 'm5n.16xlarge' 'm6gd.xlarge' 'm2.4xlarge'\n",
      " 'm5ad.24xlarge' 'r5d.large' 'r3.2xlarge' 'c5a.8xlarge' 'c5.large'\n",
      " 'r6gd.2xlarge' 'c6gn.2xlarge' 'r4.2xlarge' 't2.xlarge' 'm6gd.metal'\n",
      " 'r5ad.2xlarge' 'm5a.2xlarge' 'r5.2xlarge' 'm5d.metal' 'm5n.8xlarge'\n",
      " 'c5a.2xlarge' 'z1d.metal' 'c5n.large' 'c5ad.xlarge' 'm5.4xlarge'\n",
      " 'r5a.16xlarge' 't3a.small' 'r4.8xlarge' 'm5.24xlarge' 'c5d.4xlarge'\n",
      " 'f1.16xlarge' 'c5.24xlarge' 'm5n.12xlarge' 'm5dn.16xlarge' 'i2.4xlarge'\n",
      " 'm1.medium' 'r5a.2xlarge' 'r4.4xlarge' 'r6gd.8xlarge' 'r5n.12xlarge'\n",
      " 'g4dn.16xlarge' 'h1.16xlarge' 't3a.xlarge' 'd3.8xlarge' 'r6gd.medium'\n",
      " 'd2.8xlarge' 'u-6tb1.56xlarge' 'm3.large' 't3.2xlarge' 'r5ad.large'\n",
      " 'r5.12xlarge' 'r5n.4xlarge' 'm5zn.large' 'i3en.24xlarge' 'c6g.16xlarge'\n",
      " 'r5d.24xlarge' 'u-12tb1.112xlarge' 'c6gd.medium' 'm5zn.metal'\n",
      " 'i3.8xlarge' 'm5ad.16xlarge' 'r5dn.large' 'c5d.2xlarge' 'i3en.2xlarge'\n",
      " 'r5.8xlarge' 'c5d.xlarge' 'i3.2xlarge' 'i3en.6xlarge' 'r5.metal'\n",
      " 'c4.2xlarge' 'm5zn.3xlarge' 'm6g.large' 'm6g.medium' 'z1d.3xlarge'\n",
      " 'r5b.metal' 'c4.4xlarge' 't2.micro' 'r5.24xlarge' 'm4.10xlarge'\n",
      " 'c6g.xlarge' 'd3.4xlarge' 'r4' 'u-6tb1.112xlarge' 'c5a.xlarge'\n",
      " 'm4.4xlarge' 'm5n.large' 't2.nano' 'i3.metal' 't4g.micro' 'c5d.9xlarge'\n",
      " 'p3.16xlarge' 'r5n.2xlarge' 't3.small' 'm3.medium' 'r6gd.large'\n",
      " 'd3.xlarge' 'r6gd.16xlarge' 'r5n.large' 'g4ad.16xlarge' 'c6gn.8xlarge'\n",
      " 'm5n.2xlarge' 'r5dn.4xlarge' 'c5d.large' 'c5a.16xlarge' 'z1d.12xlarge'\n",
      " 'm5a.24xlarge' 'g4dn.xlarge' 'r5b.2xlarge' 'r6g.16xlarge' 'd3en.4xlarge'\n",
      " 'm6g.2xlarge' 'r5a.4xlarge' 'm5n.4xlarge' 'm5dn.metal' 'c6gd.16xlarge'\n",
      " 'c3.large' 'd2.2xlarge' 'g4ad.4xlarge' 'z1d.xlarge' 'c6gd.2xlarge'\n",
      " 'c6g.metal' 'c5n.9xlarge' 'g3.16xlarge' 't2.large' 'c5d.18xlarge'\n",
      " 'g4dn.2xlarge' 'c5.9xlarge' 'd2.xlarge' 'x1e.8xlarge' 'c3.8xlarge'\n",
      " 'c5d.24xlarge' 'r5n.16xlarge' 'c6g.8xlarge' 'm5a.12xlarge' 'm5d.24xlarge'\n",
      " 'm5ad.8xlarge' 'r6g.2xlarge' 'c4.8xlarge' 'r3.4xlarge' 'r5a.12xlarge'\n",
      " 'm5zn.6xlarge' 't4g.small' 'c6g.medium' 'x1e.16xlarge' 'm5a.8xlarge'\n",
      " 'a1.large' 'c6gn.12xlarge' 'c6g.12xlarge' 'm5n.24xlarge' 'g4ad.xlarge'\n",
      " 'c5a.24xlarge' 'r5b.4xlarge' 'm6g.xlarge' 'm6g.16xlarge' 't3a.micro'\n",
      " 'm5d.8xlarge' 'r5b.24xlarge' 'c5.xlarge' 'r5ad.8xlarge' 'm5d.16xlarge'\n",
      " 'a1.4xlarge' 'm6g.metal' 'r5dn.xlarge' 'm3.2xlarge' 't3.micro'\n",
      " 'c1.xlarge' 'd3en.6xlarge' 'r6g.8xlarge' 'g4dn.4xlarge' 't4g.xlarge'\n",
      " 'i2.xlarge' 'p2.xlarge' 'm5dn.large' 'r5d.12xlarge' 'r5n.metal'\n",
      " 't3a.2xlarge' 'c6g.2xlarge' 'c4.xlarge' 'm5dn.xlarge' 'x1e.xlarge'\n",
      " 'r6g.large' 'm6g.4xlarge' 'z1d.2xlarge' 'c5.18xlarge' 't2.medium'\n",
      " 'm5ad.xlarge' 'g4dn.8xlarge' 'd2.4xlarge' 'r5dn.16xlarge' 'm4.large'\n",
      " 'c6gd.12xlarge' 'm4.2xlarge' 'c6gd.metal' 'r5ad.24xlarge' 'r6gd.metal'\n",
      " 'r5dn.12xlarge' 'c5a.large' 'r6g.12xlarge' 't3.xlarge' 'i2.2xlarge'\n",
      " 'c6gn.large' 'c6g.4xlarge' 't3.nano' 'd3en.xlarge' 'r6gd.12xlarge'\n",
      " 'r5b.xlarge' 'd3.2xlarge' 'r5b.16xlarge' 'inf1.24xlarge' 'm5dn.2xlarge'\n",
      " 'i3.16xlarge' 'm1.small' 'm5zn.2xlarge' 'c6g.large' 'c4.large'\n",
      " 'm6g.12xlarge' 'r5dn.24xlarge' 'f1.2xlarge' 'r4.large' 'a1.2xlarge'\n",
      " 'p2.8xlarge' 'm5zn.12xlarge' 'p3.2xlarge' 'a1.medium' 'm6gd.medium'\n",
      " 't3.medium' 'r6g.medium' 'c5ad.16xlarge' 'a1.xlarge' 'p3.8xlarge'\n",
      " 'h1.8xlarge' 'r6gd.xlarge' 'c5ad.large' 'm2.xlarge' 'c6gd.large'\n",
      " 'c5ad.4xlarge' 'd3en.8xlarge' 'x2gd.medium' 'r6gd.4xlarge' 'm6g'\n",
      " 'p2.16xlarge' 'm5dn.12xlarge' 'g4ad.2xlarge' 'm6gd.4xlarge' 'm5ad.large'\n",
      " 'g3s.xlarge' 't3a.nano' 'x2gd.16xlarge' 'm6gd.12xlarge' 'p3dn.24xlarge'\n",
      " 'c6gd.xlarge' 'm1.large' 't4g.large' 'z1d.large' 'g4ad.8xlarge' 'c5n'\n",
      " 'a1.metal' 'g3.4xlarge' 'd3en.2xlarge' 't4g.2xlarge' 'm5' 'c6gn.xlarge'\n",
      " 'h1.2xlarge' 'r5b.8xlarge' 'r5b.12xlarge' 'x1e' 'd3en.12xlarge'\n",
      " 'x2gd.large' 'c5ad.12xlarge' 'm1.xlarge' 'm6gd.large' 'x2gd.2xlarge'\n",
      " 'm5dn.24xlarge' 'c6gn.16xlarge' 't3a.medium' 'z1d' 'f1.4xlarge'\n",
      " 'm6gd.2xlarge' 'm5n' 'i3en.metal-2tb' 'r3' 'r5d' 'a1' 'c5ad.8xlarge'\n",
      " 'x2gd.xlarge' 'm6gd.8xlarge' 'u-12tb1.metal' 'x2gd.12xlarge'\n",
      " 'x2gd.8xlarge' 'm2.2xlarge' 'cr1.8xlarge' 'i3p.16xlarge' 'c6gd.4xlarge'\n",
      " 'c6gn.medium' 'p4d.24xlarge' 'c5' 'm5zn' 'c6gn' 'cc2.8xlarge' 'x1'\n",
      " 't4g.nano' 'u-12tb1' 'u-6tb1' 'i3' 'x2gd.4xlarge' 'c6gn.4xlarge' 'c4'\n",
      " 't1.micro' 'p3' 'u-9tb1.metal' 'p4d' 'm4' 'x2gd.metal' 'm3' 'm5dn' 'm6gd'\n",
      " 'f1' 'i3en' 'i2' 'g4dn' 'r5' 'm5d' 'd2' 'c1.medium' 'u-18tb1.metal' 'c6g'\n",
      " 'i2.large' 'r6g' 'hs1.8xlarge' 'p3dn' 'h1' 'c5d' 'r6gd' 'mac1'\n",
      " 'u-6tb1.metal' 'g2' 'inf1' 'r5n' 'u-18tb1' 'u-9tb1' 'c3' 'p2' 'c6gd'\n",
      " 'u-24tb1.metal' 'r5dn' 'c6gn.metal' 'g4ad' 'x2gd' 'u-24tb1' 'g3' 'r5b'\n",
      " 'mac1.metal']\n",
      "['RHEL' 'Linux' 'Windows' 'Red Hat Enterprise Linux with HA' 'SUSE']\n",
      "max value is2021-08-01\n",
      "min value is2016-08-31\n"
     ]
    }
   ],
   "source": [
    "# get the unique values\n",
    "for col in newdata2[[\"Location\",\"Instance Type\",\"Operating System\"]]:\n",
    "    print(pd.unique(newdata2[col]))\n",
    "\n",
    "# find the max and min value\n",
    "print(\"max value is\" + newdata2[\"EffectiveDate\"].max())\n",
    "print(\"min value is\" + newdata2[\"EffectiveDate\"].min())\n",
    "\n",
    "# backfill missing observations\n",
    "L=pd.unique(newdata2[\"Location\"])\n",
    "I=pd.unique(newdata2[\"Instance Type\"])\n",
    "O=pd.unique(newdata2[\"Operating System\"])\n",
    "E=pd.unique(newdata2[\"EffectiveDate\"])\n",
    "mux = pd.MultiIndex.from_product([L,I,O,E],names=[\"Location\",\"Instance Type\",\"Operating System\",\"EffectiveDate\"])\n",
    "gdata = newdata.groupby([\"Location\",\"Instance Type\",\"Operating System\",\"EffectiveDate\"]).mean().reset_index()\n",
    "gdata = gdata.set_index([\"Location\",\"Instance Type\",\"Operating System\",\"EffectiveDate\"]).reindex(mux).groupby(level=0).bfill().reset_index()\n",
    "gdata = gdata.sort_values(by=[\"Location\",\"Instance Type\",\"Operating System\",\"EffectiveDate\"])\n",
    "gdata[\"EffectiveDate\"]= pd.to_datetime(gdata[\"EffectiveDate\"])"
   ]
  },
  {
   "cell_type": "code",
   "execution_count": 6,
   "id": "c51ba80c",
   "metadata": {},
   "outputs": [
    {
     "name": "stdout",
     "output_type": "stream",
     "text": [
      "46 0 460 4\n"
     ]
    }
   ],
   "source": [
    "# Label Encoder\n",
    "labelencoder = LabelEncoder()\n",
    "gdata_cols=[\"Location\",\"Instance Type\",\"Operating System\"]\n",
    "attach = []\n",
    "for col in gdata_cols:\n",
    "    gdata[col] = labelencoder.fit_transform(gdata[col])\n",
    "    \n",
    "print(gdata[\"Location\"].max(),gdata[\"Location\"].min(),gdata[\"Instance Type\"].max(),gdata[\"Operating System\"].max())   "
   ]
  },
  {
   "cell_type": "code",
   "execution_count": 7,
   "id": "7de179a0",
   "metadata": {},
   "outputs": [],
   "source": [
    "def add_features(df):\n",
    "    df['year'] = df[\"EffectiveDate\"].dt.year\n",
    "    df['month'] = df[\"EffectiveDate\"].dt.month\n",
    "    df['day'] = df[\"EffectiveDate\"].dt.day\n",
    "add_features(gdata)"
   ]
  },
  {
   "cell_type": "code",
   "execution_count": 8,
   "id": "8c43a022",
   "metadata": {},
   "outputs": [],
   "source": [
    "gdata[\"Location\"]=gdata[\"Location\"].astype(np.int16)"
   ]
  },
  {
   "cell_type": "code",
   "execution_count": 9,
   "id": "f4da636d",
   "metadata": {},
   "outputs": [],
   "source": [
    "gdata[\"Instance Type\"]=gdata[\"Instance Type\"].astype(np.int16)\n",
    "gdata[\"Operating System\"]=gdata[\"Operating System\"].astype(np.int16)\n",
    "gdata[\"PricePerUnit\"]=gdata[\"PricePerUnit\"].astype(np.float16)\n",
    "gdata[\"year\"]=gdata[\"year\"].astype(np.int16)\n",
    "gdata[\"month\"]=gdata[\"month\"].astype(np.int16)\n",
    "gdata[\"day\"]=gdata[\"day\"].astype(np.int16)"
   ]
  },
  {
   "cell_type": "code",
   "execution_count": 17,
   "id": "3f3577ff",
   "metadata": {},
   "outputs": [],
   "source": [
    "gdata.to_csv(r'all_data.csv',index=True,index_label='EffecitveDate',columns=[\"Location\",\"Instance Type\",\"Operating System\",\n",
    "                                                                           \"day\",\"month\",\"year\",\"PricePerUnit\"])"
   ]
  },
  {
   "cell_type": "code",
   "execution_count": 11,
   "id": "088f63d7",
   "metadata": {},
   "outputs": [],
   "source": [
    "cutoff_date1 = gdata[\"EffectiveDate\"].max()-timedelta(days=365)\n",
    "cutoff_date2 = cutoff_date1-timedelta(days=365)\n",
    "cutoff_date3 = cutoff_date2-timedelta(days=365)"
   ]
  },
  {
   "cell_type": "code",
   "execution_count": 14,
   "id": "3f6a3b1f",
   "metadata": {},
   "outputs": [],
   "source": [
    "# Spliting training, testing and validation\n",
    "testing = gdata[(gdata[\"EffectiveDate\"] > cutoff_date1)]\n",
    "training = gdata[((gdata[\"EffectiveDate\"] <= cutoff_date1)&(gdata[\"EffectiveDate\"] > cutoff_date3))]"
   ]
  },
  {
   "cell_type": "code",
   "execution_count": 15,
   "id": "9c0e20d9",
   "metadata": {},
   "outputs": [],
   "source": [
    "np.random.seed(5)\n",
    "l = list(training.index)\n",
    "np.random.shuffle(l)\n",
    "training = training.loc[l]\n",
    "rows = training.shape[0]\n",
    "train = int(.7 * rows)\n",
    "test = rows-train\n",
    "training.iloc[:train].to_csv('train.csv'\n",
    "                          ,index=False,header=False\n",
    "                          ,columns=[\"Location\",\"Instance Type\",\"Operating System\",\"day\",\"month\",\"year\",\"PricePerUnit\"])\n",
    "training.iloc[train:].to_csv('validation.csv'\n",
    "                          ,index=False,header=False\n",
    "                          ,columns=[\"Location\",\"Instance Type\",\"Operating System\",\"day\",\"month\",\"year\",\"PricePerUnit\"])"
   ]
  },
  {
   "cell_type": "code",
   "execution_count": 16,
   "id": "7f1ea1fb",
   "metadata": {},
   "outputs": [],
   "source": [
    "# write from s3 bucket\n",
    "def write_to_s3(filename,bucket,key):\n",
    "    with open(filename,\"rb\") as f: # Read in binary mode\n",
    "        return boto3.Session().resource(\"s3\").Bucket(bucket).Object(key).upload_fileobj(f)\n",
    "\n",
    "testing.to_csv(r'test.csv')   \n",
    "\n",
    "write_to_s3(\"train.csv\", s3_bucket_name, training_folder+\"train.csv\")\n",
    "write_to_s3(\"test.csv\", s3_bucket_name, test_folder+\"test.csv\")\n",
    "write_to_s3(\"validation.csv\", s3_bucket_name, validation_folder+\"validation.csv\")"
   ]
  },
  {
   "cell_type": "code",
   "execution_count": null,
   "id": "b3ce9346",
   "metadata": {},
   "outputs": [],
   "source": []
  }
 ],
 "metadata": {
  "kernelspec": {
   "display_name": "conda_python3",
   "language": "python",
   "name": "conda_python3"
  },
  "language_info": {
   "codemirror_mode": {
    "name": "ipython",
    "version": 3
   },
   "file_extension": ".py",
   "mimetype": "text/x-python",
   "name": "python",
   "nbconvert_exporter": "python",
   "pygments_lexer": "ipython3",
   "version": "3.6.13"
  }
 },
 "nbformat": 4,
 "nbformat_minor": 5
}
