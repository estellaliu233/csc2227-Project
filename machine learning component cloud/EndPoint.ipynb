{
 "cells": [
  {
   "cell_type": "code",
   "execution_count": 1,
   "metadata": {},
   "outputs": [],
   "source": [
    "import boto3\n",
    "import math\n",
    "import dateutil\n",
    "import json"
   ]
  },
  {
   "cell_type": "code",
   "execution_count": 3,
   "metadata": {},
   "outputs": [],
   "source": [
    "# Establish a session with AWS\n",
    "# Specify credentials and region to be used for this session.\n",
    "# We will use a ml_user_predict credentials that has limited privileges\n",
    "boto_session = boto3.Session(profile_name='estellaliu_ml_user',region_name='us-east-1')"
   ]
  },
  {
   "cell_type": "code",
   "execution_count": 4,
   "metadata": {},
   "outputs": [],
   "source": [
    "# Acquire a SageMaker Runtime client for us-east-1 region\n",
    "client = boto_session.client(service_name='sagemaker-runtime',region_name='us-east-1')"
   ]
  },
  {
   "cell_type": "code",
   "execution_count": 5,
   "metadata": {},
   "outputs": [],
   "source": [
    "# Specify Your Endpoint Name\n",
    "endpoint_name = 'xgboost-v1'"
   ]
  },
  {
   "cell_type": "code",
   "execution_count": 6,
   "metadata": {},
   "outputs": [],
   "source": [
    "# Raw Data\n",
    "#\"Location\",\"Instance Type\",\"Operating System\",\"day\",\"month\",\"year\"\n",
    "\n",
    "sample_one = [0,2,3,9,12,2020]\n",
    "\n",
    "sample_two = [1,3,2,3,4,2021]\n",
    "\n",
    "sample_three = [2,1,1,2,3,2021]"
   ]
  },
  {
   "cell_type": "code",
   "execution_count": 7,
   "metadata": {},
   "outputs": [],
   "source": [
    "# Single Observation\n",
    "request = {\n",
    "    \"instances\": [\n",
    "        # First instance.\n",
    "        {\n",
    "            \"features\": sample_one\n",
    "        }\n",
    "    ]\n",
    "}"
   ]
  },
  {
   "cell_type": "code",
   "execution_count": 8,
   "metadata": {},
   "outputs": [
    {
     "name": "stdout",
     "output_type": "stream",
     "text": [
      "{\n",
      "  \"instances\": [\n",
      "    {\n",
      "      \"features\": [\n",
      "        0,\n",
      "        2,\n",
      "        3,\n",
      "        9,\n",
      "        12,\n",
      "        2020\n",
      "      ]\n",
      "    }\n",
      "  ]\n",
      "}\n"
     ]
    }
   ],
   "source": [
    "print(json.dumps(request,indent=2))"
   ]
  },
  {
   "cell_type": "code",
   "execution_count": 9,
   "metadata": {},
   "outputs": [],
   "source": [
    "# Multiple Observations\n",
    "request = {\n",
    "    \"instances\": [\n",
    "        # First instance.\n",
    "        {\n",
    "            \"features\": sample_one\n",
    "        },\n",
    "        # Second instance.\n",
    "        {\n",
    "            \"features\": sample_two\n",
    "        },\n",
    "        # Third instance.\n",
    "        {\n",
    "            \"features\": sample_three\n",
    "        }\n",
    "    ]\n",
    "}"
   ]
  },
  {
   "cell_type": "code",
   "execution_count": 10,
   "metadata": {},
   "outputs": [
    {
     "name": "stdout",
     "output_type": "stream",
     "text": [
      "{\n",
      "  \"instances\": [\n",
      "    {\n",
      "      \"features\": [\n",
      "        0,\n",
      "        2,\n",
      "        3,\n",
      "        9,\n",
      "        12,\n",
      "        2020\n",
      "      ]\n",
      "    },\n",
      "    {\n",
      "      \"features\": [\n",
      "        1,\n",
      "        3,\n",
      "        2,\n",
      "        3,\n",
      "        4,\n",
      "        2021\n",
      "      ]\n",
      "    },\n",
      "    {\n",
      "      \"features\": [\n",
      "        2,\n",
      "        1,\n",
      "        1,\n",
      "        2,\n",
      "        3,\n",
      "        2021\n",
      "      ]\n",
      "    }\n",
      "  ]\n",
      "}\n"
     ]
    }
   ],
   "source": [
    "print(json.dumps(request,indent=2))"
   ]
  },
  {
   "cell_type": "code",
   "execution_count": 31,
   "metadata": {},
   "outputs": [],
   "source": [
    "def transform_data(data):\n",
    "    features = data.copy()\n",
    "    \n",
    "    # Return the transformed data. skip datetime field\n",
    "    return ','.join([str(feature) for feature in features[:]])"
   ]
  },
  {
   "cell_type": "code",
   "execution_count": 32,
   "metadata": {},
   "outputs": [
    {
     "name": "stdout",
     "output_type": "stream",
     "text": [
      "Raw Data:\n",
      " [0, 2, 3, 9, 12, 2020]\n",
      "Transformed Data:\n",
      " 0,2,3,9,12,2020\n"
     ]
    }
   ],
   "source": [
    "print('Raw Data:\\n',sample_one)\n",
    "print('Transformed Data:\\n',transform_data(sample_one))"
   ]
  },
  {
   "cell_type": "code",
   "execution_count": 33,
   "metadata": {},
   "outputs": [],
   "source": [
    "# Single with error\n",
    "request = {\n",
    "    \"instances\": [\n",
    "        # First instance.\n",
    "        {\n",
    "            \"features\": [\"hi there\",0,2]\n",
    "        }\n",
    "    ]\n",
    "}"
   ]
  },
  {
   "cell_type": "code",
   "execution_count": 34,
   "metadata": {},
   "outputs": [],
   "source": [
    "try:\n",
    "    transformed_data = [transform_data(instance['features']) for instance in request[\"instances\"]]\n",
    "except Exception as err:\n",
    "    print('Error when transforming: {0}'.format(err))"
   ]
  },
  {
   "cell_type": "code",
   "execution_count": 35,
   "metadata": {},
   "outputs": [],
   "source": [
    "# Single Observation\n",
    "request = {\n",
    "    \"instances\": [\n",
    "        # First instance.\n",
    "        {\n",
    "            \"features\": sample_one\n",
    "        }\n",
    "    ]\n",
    "}"
   ]
  },
  {
   "cell_type": "code",
   "execution_count": 36,
   "metadata": {},
   "outputs": [],
   "source": [
    "# Let's invoke prediction now\n",
    "result = client.invoke_endpoint(EndpointName=endpoint_name, \n",
    "                       Body=transform_data(request['instances'][0]['features']).encode('utf-8'),\n",
    "                       ContentType='text/csv')"
   ]
  },
  {
   "cell_type": "code",
   "execution_count": 37,
   "metadata": {},
   "outputs": [],
   "source": [
    "result = result['Body'].read().decode('utf-8')"
   ]
  },
  {
   "cell_type": "code",
   "execution_count": 38,
   "metadata": {},
   "outputs": [
    {
     "name": "stdout",
     "output_type": "stream",
     "text": [
      "Predicted Price Per Unit 13.09348808101376\n"
     ]
    }
   ],
   "source": [
    "# Model was trained with log1p(count)\n",
    "# So, we need to apply inverse transformation to get the actual count\n",
    "# Predicted Count looks much better now\n",
    "print ('Predicted Price Per Unit', math.expm1(float(result)))"
   ]
  },
  {
   "cell_type": "code",
   "execution_count": 39,
   "metadata": {},
   "outputs": [],
   "source": [
    "# Multiple Observations\n",
    "request = {\n",
    "    \"instances\": [\n",
    "        # First instance.\n",
    "        {\n",
    "            \"features\": sample_one\n",
    "        },\n",
    "        # Second instance.\n",
    "        {\n",
    "            \"features\": sample_two\n",
    "        },\n",
    "        # Third instance.\n",
    "        {\n",
    "            \"features\": sample_three\n",
    "        }\n",
    "    ]\n",
    "}"
   ]
  },
  {
   "cell_type": "code",
   "execution_count": 40,
   "metadata": {},
   "outputs": [
    {
     "name": "stdout",
     "output_type": "stream",
     "text": [
      "{'features': [0, 2, 3, 9, 12, 2020]}\n",
      "Transformed:\n",
      "  0,2,3,9,12,2020\n",
      "{'features': [1, 3, 2, 3, 4, 2021]}\n",
      "Transformed:\n",
      "  1,3,2,3,4,2021\n",
      "{'features': [2, 1, 1, 2, 3, 2021]}\n",
      "Transformed:\n",
      "  2,1,1,2,3,2021\n"
     ]
    }
   ],
   "source": [
    "for instance in request[\"instances\"]:\n",
    "    print(instance)\n",
    "    print('Transformed:')\n",
    "    print(' ', transform_data(instance['features']))"
   ]
  },
  {
   "cell_type": "code",
   "execution_count": 41,
   "metadata": {},
   "outputs": [],
   "source": [
    "# XGBoost accepts data in CSV. It does not support JSON.\n",
    "# So, we need to submit the request in CSV format\n",
    "# Prediction for multiple observations in the same call\n",
    "result = client.invoke_endpoint(EndpointName=endpoint_name, \n",
    "                       Body=('\\n'.join(\n",
    "                           [transform_data(instance['features']) \n",
    "                                for instance in request[\"instances\"]]).encode('utf-8')),\n",
    "                       ContentType='text/csv')"
   ]
  },
  {
   "cell_type": "code",
   "execution_count": 42,
   "metadata": {},
   "outputs": [],
   "source": [
    "result = result['Body'].read().decode('utf-8')"
   ]
  },
  {
   "cell_type": "code",
   "execution_count": 43,
   "metadata": {},
   "outputs": [],
   "source": [
    "result = result.split(',')\n",
    "predictions = [math.expm1(float(r)) for r in result]"
   ]
  },
  {
   "cell_type": "code",
   "execution_count": 44,
   "metadata": {},
   "outputs": [
    {
     "data": {
      "text/plain": [
       "[13.09348808101376, 41.016599480572765, 3.9199462258842046]"
      ]
     },
     "execution_count": 44,
     "metadata": {},
     "output_type": "execute_result"
    }
   ],
   "source": [
    "predictions"
   ]
  },
  {
   "cell_type": "code",
   "execution_count": null,
   "metadata": {},
   "outputs": [],
   "source": []
  }
 ],
 "metadata": {
  "kernelspec": {
   "display_name": "conda_python3",
   "language": "python",
   "name": "conda_python3"
  },
  "language_info": {
   "codemirror_mode": {
    "name": "ipython",
    "version": 3
   },
   "file_extension": ".py",
   "mimetype": "text/x-python",
   "name": "python",
   "nbconvert_exporter": "python",
   "pygments_lexer": "ipython3",
   "version": "3.6.13"
  }
 },
 "nbformat": 4,
 "nbformat_minor": 2
}
