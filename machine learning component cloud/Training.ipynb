{
 "cells": [
  {
   "cell_type": "code",
   "execution_count": 1,
   "metadata": {},
   "outputs": [],
   "source": [
    "import numpy as np\n",
    "import pandas as pd\n",
    "import boto3\n",
    "import re\n",
    "import sagemaker\n",
    "from sagemaker import get_execution_role"
   ]
  },
  {
   "cell_type": "code",
   "execution_count": 2,
   "metadata": {},
   "outputs": [],
   "source": [
    "# Specify your bucket name\n",
    "\n",
    "bucket_name = 'estellaliuml'\n",
    "training_folder = r'model/training/'\n",
    "validation_folder = r'model/validation/'\n",
    "test_folder = r'model/test/'\n",
    "\n",
    "s3_model_output_location = r's3://{0}/model/model'.format(bucket_name)\n",
    "s3_training_file_location = r\"s3://{0}/{1}\".format(bucket_name,training_folder)\n",
    "s3_validation_file_location = r\"s3://{0}/{1}\".format(bucket_name,validation_folder)\n",
    "s3_test_file_location = r's3://{0}/{1}'.format(bucket_name,test_folder)"
   ]
  },
  {
   "cell_type": "code",
   "execution_count": 3,
   "metadata": {},
   "outputs": [
    {
     "name": "stdout",
     "output_type": "stream",
     "text": [
      "s3://estellaliuml/model/model\n",
      "s3://estellaliuml/model/training/\n",
      "s3://estellaliuml/model/validation/\n",
      "s3://estellaliuml/model/test/\n"
     ]
    }
   ],
   "source": [
    "print(s3_model_output_location)\n",
    "print(s3_training_file_location)\n",
    "print(s3_validation_file_location)\n",
    "print(s3_test_file_location)"
   ]
  },
  {
   "cell_type": "code",
   "execution_count": 4,
   "metadata": {},
   "outputs": [],
   "source": [
    "def write_to_s3(filename, bucket, key):\n",
    "    with open(filename,'rb') as f: # Read in binary mode\n",
    "        return boto3.Session().resource('s3').Bucket(bucket).Object(key).upload_fileobj(f)"
   ]
  },
  {
   "cell_type": "code",
   "execution_count": 5,
   "metadata": {},
   "outputs": [
    {
     "name": "stdout",
     "output_type": "stream",
     "text": [
      "Checkpoint uri: s3://estellaliuml/bikerental/checkpoints/xgboost-v1\n"
     ]
    }
   ],
   "source": [
    "use_spot_instances = True\n",
    "max_run = 3600 # in seconds\n",
    "max_wait = 7200 if use_spot_instances else None # in seconds\n",
    "\n",
    "job_name = 'xgboost-v1'\n",
    "\n",
    "checkpoint_s3_uri = None\n",
    "\n",
    "if use_spot_instances:\n",
    "    checkpoint_s3_uri = f's3://{bucket_name}/bikerental/checkpoints/{job_name}'\n",
    "    \n",
    "print (f'Checkpoint uri: {checkpoint_s3_uri}')"
   ]
  },
  {
   "cell_type": "code",
   "execution_count": 6,
   "metadata": {},
   "outputs": [],
   "source": [
    "sess = sagemaker.Session()"
   ]
  },
  {
   "cell_type": "code",
   "execution_count": 7,
   "metadata": {},
   "outputs": [],
   "source": [
    "role = get_execution_role()"
   ]
  },
  {
   "cell_type": "code",
   "execution_count": 8,
   "metadata": {},
   "outputs": [
    {
     "name": "stdout",
     "output_type": "stream",
     "text": [
      "arn:aws:iam::107541254819:role/service-role/AmazonSageMaker-ExecutionRole-20210808T115899\n"
     ]
    }
   ],
   "source": [
    "print(role)"
   ]
  },
  {
   "cell_type": "code",
   "execution_count": 9,
   "metadata": {},
   "outputs": [
    {
     "name": "stdout",
     "output_type": "stream",
     "text": [
      "Using XGBoost Container 683313688378.dkr.ecr.us-east-1.amazonaws.com/sagemaker-xgboost:1.2-2\n"
     ]
    }
   ],
   "source": [
    "container = sagemaker.image_uris.retrieve(\"xgboost\",sess.boto_region_name,version=\"1.2-2\")\n",
    "\n",
    "print (f'Using XGBoost Container {container}')"
   ]
  },
  {
   "cell_type": "code",
   "execution_count": 10,
   "metadata": {},
   "outputs": [],
   "source": [
    "estimator = sagemaker.estimator.Estimator(\n",
    "    container,\n",
    "    role,\n",
    "    instance_count=1,\n",
    "    instance_type='ml.m5.xlarge',\n",
    "    output_path=s3_model_output_location,\n",
    "    sagemaker_session=sess,\n",
    "    base_job_name = job_name,\n",
    "    use_spot_instances=use_spot_instances,\n",
    "    max_run=max_run,\n",
    "    max_wait=max_wait,\n",
    "    checkpoint_s3_uri=checkpoint_s3_uri)"
   ]
  },
  {
   "cell_type": "code",
   "execution_count": 11,
   "metadata": {},
   "outputs": [],
   "source": [
    "estimator.set_hyperparameters(max_depth=5,\n",
    "                              objective=\"reg:squarederror\",\n",
    "                              eta=0.1,\n",
    "                              num_round=150)"
   ]
  },
  {
   "cell_type": "code",
   "execution_count": 12,
   "metadata": {},
   "outputs": [
    {
     "data": {
      "text/plain": [
       "{'max_depth': 5, 'objective': 'reg:squarederror', 'eta': 0.1, 'num_round': 150}"
      ]
     },
     "execution_count": 12,
     "metadata": {},
     "output_type": "execute_result"
    }
   ],
   "source": [
    "estimator.hyperparameters()"
   ]
  },
  {
   "cell_type": "code",
   "execution_count": 13,
   "metadata": {},
   "outputs": [],
   "source": [
    "training_input_config = sagemaker.session.TrainingInput(\n",
    "    s3_data=s3_training_file_location,\n",
    "    content_type='csv',\n",
    "    s3_data_type='S3Prefix')\n",
    "\n",
    "validation_input_config = sagemaker.session.TrainingInput(\n",
    "    s3_data=s3_validation_file_location,\n",
    "    content_type='csv',\n",
    "    s3_data_type='S3Prefix'\n",
    ")\n",
    "\n",
    "data_channels = {'train': training_input_config, 'validation': validation_input_config}"
   ]
  },
  {
   "cell_type": "code",
   "execution_count": 14,
   "metadata": {},
   "outputs": [
    {
     "name": "stdout",
     "output_type": "stream",
     "text": [
      "{'DataSource': {'S3DataSource': {'S3DataType': 'S3Prefix', 'S3Uri': 's3://estellaliuml/model/training/', 'S3DataDistributionType': 'FullyReplicated'}}, 'ContentType': 'csv'}\n",
      "{'DataSource': {'S3DataSource': {'S3DataType': 'S3Prefix', 'S3Uri': 's3://estellaliuml/model/validation/', 'S3DataDistributionType': 'FullyReplicated'}}, 'ContentType': 'csv'}\n"
     ]
    }
   ],
   "source": [
    "print(training_input_config.config)\n",
    "print(validation_input_config.config)"
   ]
  },
  {
   "cell_type": "code",
   "execution_count": 15,
   "metadata": {},
   "outputs": [
    {
     "name": "stdout",
     "output_type": "stream",
     "text": [
      "2021-08-26 13:29:35 Starting - Starting the training job...\n",
      "2021-08-26 13:29:37 Starting - Launching requested ML instancesProfilerReport-1629984575: InProgress\n",
      "......\n",
      "2021-08-26 13:30:54 Starting - Preparing the instances for training.........\n",
      "2021-08-26 13:32:31 Downloading - Downloading input data...\n",
      "2021-08-26 13:32:51 Training - Downloading the training image..\u001b[34m[2021-08-26 13:33:11.503 ip-10-2-96-101.ec2.internal:1 INFO utils.py:27] RULE_JOB_STOP_SIGNAL_FILENAME: None\u001b[0m\n",
      "\u001b[34m[2021-08-26:13:33:11:INFO] Imported framework sagemaker_xgboost_container.training\u001b[0m\n",
      "\u001b[34m[2021-08-26:13:33:11:INFO] Failed to parse hyperparameter objective value reg:squarederror to Json.\u001b[0m\n",
      "\u001b[34mReturning the value itself\u001b[0m\n",
      "\u001b[34m[2021-08-26:13:33:11:INFO] No GPUs detected (normal if no gpus installed)\u001b[0m\n",
      "\u001b[34m[2021-08-26:13:33:11:INFO] Running XGBoost Sagemaker in algorithm mode\u001b[0m\n",
      "\u001b[34m[2021-08-26:13:33:11:INFO] Determined delimiter of CSV input is ','\u001b[0m\n",
      "\u001b[34m[2021-08-26:13:33:11:INFO] Determined delimiter of CSV input is ','\u001b[0m\n",
      "\u001b[34m[2021-08-26:13:33:11:INFO] Determined delimiter of CSV input is ','\u001b[0m\n",
      "\u001b[34m[2021-08-26:13:33:12:INFO] Determined delimiter of CSV input is ','\u001b[0m\n",
      "\u001b[34m[2021-08-26:13:33:13:INFO] Single node training.\u001b[0m\n",
      "\u001b[34m[2021-08-26:13:33:13:INFO] Train matrix has 3943393 rows and 6 columns\u001b[0m\n",
      "\u001b[34m[2021-08-26:13:33:13:INFO] Validation matrix has 1690027 rows\u001b[0m\n",
      "\u001b[34m[0]#011train-rmse:24.05385#011validation-rmse:24.04260\u001b[0m\n",
      "\u001b[34m[1]#011train-rmse:22.08831#011validation-rmse:22.08572\u001b[0m\n",
      "\u001b[34m[2]#011train-rmse:20.35940#011validation-rmse:20.35873\u001b[0m\n",
      "\n",
      "2021-08-26 13:33:31 Training - Training image download completed. Training in progress.\u001b[34m[3]#011train-rmse:18.85463#011validation-rmse:18.83595\u001b[0m\n",
      "\u001b[34m[4]#011train-rmse:17.51892#011validation-rmse:17.51269\u001b[0m\n",
      "\u001b[34m[5]#011train-rmse:16.37692#011validation-rmse:16.36050\u001b[0m\n",
      "\u001b[34m[6]#011train-rmse:15.38497#011validation-rmse:15.36748\u001b[0m\n",
      "\u001b[34m[7]#011train-rmse:14.51596#011validation-rmse:14.50184\u001b[0m\n",
      "\u001b[34m[8]#011train-rmse:13.77813#011validation-rmse:13.76252\u001b[0m\n",
      "\u001b[34m[9]#011train-rmse:13.13805#011validation-rmse:13.12499\u001b[0m\n",
      "\u001b[34m[10]#011train-rmse:12.59632#011validation-rmse:12.58819\u001b[0m\n",
      "\u001b[34m[11]#011train-rmse:12.14465#011validation-rmse:12.13621\u001b[0m\n",
      "\u001b[34m[12]#011train-rmse:11.76811#011validation-rmse:11.75798\u001b[0m\n",
      "\u001b[34m[13]#011train-rmse:11.44492#011validation-rmse:11.43123\u001b[0m\n",
      "\u001b[34m[14]#011train-rmse:11.16895#011validation-rmse:11.16372\u001b[0m\n",
      "\u001b[34m[15]#011train-rmse:10.94432#011validation-rmse:10.93524\u001b[0m\n",
      "\u001b[34m[16]#011train-rmse:10.75204#011validation-rmse:10.74470\u001b[0m\n",
      "\u001b[34m[17]#011train-rmse:10.59272#011validation-rmse:10.58606\u001b[0m\n",
      "\u001b[34m[18]#011train-rmse:10.46359#011validation-rmse:10.45351\u001b[0m\n",
      "\u001b[34m[19]#011train-rmse:10.35082#011validation-rmse:10.34343\u001b[0m\n",
      "\u001b[34m[20]#011train-rmse:10.25696#011validation-rmse:10.25353\u001b[0m\n",
      "\u001b[34m[21]#011train-rmse:10.17682#011validation-rmse:10.16986\u001b[0m\n",
      "\u001b[34m[22]#011train-rmse:10.10980#011validation-rmse:10.10559\u001b[0m\n",
      "\u001b[34m[23]#011train-rmse:10.05662#011validation-rmse:10.05331\u001b[0m\n",
      "\u001b[34m[24]#011train-rmse:10.00776#011validation-rmse:10.00383\u001b[0m\n",
      "\u001b[34m[25]#011train-rmse:9.97089#011validation-rmse:9.96867\u001b[0m\n",
      "\u001b[34m[26]#011train-rmse:9.93613#011validation-rmse:9.93376\u001b[0m\n",
      "\u001b[34m[27]#011train-rmse:9.90637#011validation-rmse:9.90102\u001b[0m\n",
      "\u001b[34m[28]#011train-rmse:9.87627#011validation-rmse:9.87461\u001b[0m\n",
      "\u001b[34m[29]#011train-rmse:9.85074#011validation-rmse:9.84658\u001b[0m\n",
      "\u001b[34m[30]#011train-rmse:9.82908#011validation-rmse:9.82889\u001b[0m\n",
      "\u001b[34m[31]#011train-rmse:9.81436#011validation-rmse:9.81434\u001b[0m\n",
      "\u001b[34m[32]#011train-rmse:9.79664#011validation-rmse:9.79737\u001b[0m\n",
      "\u001b[34m[33]#011train-rmse:9.78495#011validation-rmse:9.78584\u001b[0m\n",
      "\u001b[34m[34]#011train-rmse:9.77349#011validation-rmse:9.77166\u001b[0m\n",
      "\u001b[34m[35]#011train-rmse:9.76600#011validation-rmse:9.76441\u001b[0m\n",
      "\u001b[34m[36]#011train-rmse:9.74350#011validation-rmse:9.74300\u001b[0m\n",
      "\u001b[34m[37]#011train-rmse:9.72566#011validation-rmse:9.72547\u001b[0m\n",
      "\u001b[34m[38]#011train-rmse:9.71146#011validation-rmse:9.71232\u001b[0m\n",
      "\u001b[34m[39]#011train-rmse:9.70503#011validation-rmse:9.70350\u001b[0m\n",
      "\u001b[34m[40]#011train-rmse:9.70027#011validation-rmse:9.69843\u001b[0m\n",
      "\u001b[34m[41]#011train-rmse:9.68782#011validation-rmse:9.68700\u001b[0m\n",
      "\u001b[34m[42]#011train-rmse:9.67568#011validation-rmse:9.67502\u001b[0m\n",
      "\u001b[34m[43]#011train-rmse:9.67112#011validation-rmse:9.66994\u001b[0m\n",
      "\u001b[34m[44]#011train-rmse:9.66185#011validation-rmse:9.65988\u001b[0m\n",
      "\u001b[34m[45]#011train-rmse:9.64960#011validation-rmse:9.64805\u001b[0m\n",
      "\u001b[34m[46]#011train-rmse:9.64155#011validation-rmse:9.64264\u001b[0m\n",
      "\u001b[34m[47]#011train-rmse:9.63745#011validation-rmse:9.63800\u001b[0m\n",
      "\u001b[34m[48]#011train-rmse:9.62648#011validation-rmse:9.62652\u001b[0m\n",
      "\u001b[34m[49]#011train-rmse:9.61755#011validation-rmse:9.61712\u001b[0m\n",
      "\u001b[34m[50]#011train-rmse:9.60686#011validation-rmse:9.60667\u001b[0m\n",
      "\u001b[34m[51]#011train-rmse:9.60259#011validation-rmse:9.60182\u001b[0m\n",
      "\u001b[34m[52]#011train-rmse:9.59595#011validation-rmse:9.59336\u001b[0m\n",
      "\u001b[34m[53]#011train-rmse:9.59317#011validation-rmse:9.59048\u001b[0m\n",
      "\u001b[34m[54]#011train-rmse:9.58581#011validation-rmse:9.58380\u001b[0m\n",
      "\u001b[34m[55]#011train-rmse:9.57669#011validation-rmse:9.57581\u001b[0m\n",
      "\u001b[34m[56]#011train-rmse:9.56807#011validation-rmse:9.56864\u001b[0m\n",
      "\u001b[34m[57]#011train-rmse:9.56335#011validation-rmse:9.56344\u001b[0m\n",
      "\u001b[34m[58]#011train-rmse:9.55839#011validation-rmse:9.55948\u001b[0m\n",
      "\u001b[34m[59]#011train-rmse:9.55358#011validation-rmse:9.55477\u001b[0m\n",
      "\u001b[34m[60]#011train-rmse:9.55106#011validation-rmse:9.55152\u001b[0m\n",
      "\u001b[34m[61]#011train-rmse:9.54898#011validation-rmse:9.54934\u001b[0m\n",
      "\u001b[34m[62]#011train-rmse:9.54078#011validation-rmse:9.54233\u001b[0m\n",
      "\u001b[34m[63]#011train-rmse:9.53537#011validation-rmse:9.53693\u001b[0m\n",
      "\u001b[34m[64]#011train-rmse:9.52992#011validation-rmse:9.53231\u001b[0m\n",
      "\u001b[34m[65]#011train-rmse:9.52148#011validation-rmse:9.52505\u001b[0m\n",
      "\u001b[34m[66]#011train-rmse:9.51979#011validation-rmse:9.52232\u001b[0m\n",
      "\u001b[34m[67]#011train-rmse:9.51903#011validation-rmse:9.52097\u001b[0m\n",
      "\u001b[34m[68]#011train-rmse:9.51025#011validation-rmse:9.51386\u001b[0m\n",
      "\u001b[34m[69]#011train-rmse:9.50728#011validation-rmse:9.51052\u001b[0m\n",
      "\u001b[34m[70]#011train-rmse:9.49788#011validation-rmse:9.50134\u001b[0m\n",
      "\u001b[34m[71]#011train-rmse:9.49637#011validation-rmse:9.50011\u001b[0m\n",
      "\u001b[34m[72]#011train-rmse:9.48876#011validation-rmse:9.49267\u001b[0m\n",
      "\u001b[34m[73]#011train-rmse:9.48691#011validation-rmse:9.49076\u001b[0m\n",
      "\u001b[34m[74]#011train-rmse:9.48204#011validation-rmse:9.48628\u001b[0m\n",
      "\u001b[34m[75]#011train-rmse:9.48146#011validation-rmse:9.48567\u001b[0m\n",
      "\u001b[34m[76]#011train-rmse:9.47659#011validation-rmse:9.48095\u001b[0m\n",
      "\u001b[34m[77]#011train-rmse:9.47275#011validation-rmse:9.47738\u001b[0m\n",
      "\u001b[34m[78]#011train-rmse:9.46848#011validation-rmse:9.47202\u001b[0m\n",
      "\u001b[34m[79]#011train-rmse:9.46593#011validation-rmse:9.46940\u001b[0m\n",
      "\u001b[34m[80]#011train-rmse:9.46262#011validation-rmse:9.46589\u001b[0m\n",
      "\u001b[34m[81]#011train-rmse:9.46185#011validation-rmse:9.46514\u001b[0m\n",
      "\u001b[34m[82]#011train-rmse:9.45757#011validation-rmse:9.46073\u001b[0m\n",
      "\u001b[34m[83]#011train-rmse:9.45319#011validation-rmse:9.45671\u001b[0m\n",
      "\u001b[34m[84]#011train-rmse:9.44915#011validation-rmse:9.45249\u001b[0m\n",
      "\u001b[34m[85]#011train-rmse:9.44351#011validation-rmse:9.44673\u001b[0m\n",
      "\u001b[34m[86]#011train-rmse:9.44104#011validation-rmse:9.44433\u001b[0m\n",
      "\u001b[34m[87]#011train-rmse:9.43473#011validation-rmse:9.43751\u001b[0m\n",
      "\u001b[34m[88]#011train-rmse:9.43099#011validation-rmse:9.43329\u001b[0m\n",
      "\u001b[34m[89]#011train-rmse:9.42303#011validation-rmse:9.42534\u001b[0m\n",
      "\u001b[34m[90]#011train-rmse:9.42231#011validation-rmse:9.42464\u001b[0m\n",
      "\u001b[34m[91]#011train-rmse:9.41808#011validation-rmse:9.42045\u001b[0m\n",
      "\u001b[34m[92]#011train-rmse:9.41526#011validation-rmse:9.41777\u001b[0m\n",
      "\u001b[34m[93]#011train-rmse:9.41192#011validation-rmse:9.41401\u001b[0m\n",
      "\u001b[34m[94]#011train-rmse:9.40788#011validation-rmse:9.40932\u001b[0m\n",
      "\u001b[34m[95]#011train-rmse:9.40468#011validation-rmse:9.40616\u001b[0m\n",
      "\u001b[34m[96]#011train-rmse:9.40003#011validation-rmse:9.40173\u001b[0m\n",
      "\u001b[34m[97]#011train-rmse:9.39568#011validation-rmse:9.39704\u001b[0m\n",
      "\u001b[34m[98]#011train-rmse:9.38861#011validation-rmse:9.39001\u001b[0m\n",
      "\u001b[34m[99]#011train-rmse:9.38484#011validation-rmse:9.38597\u001b[0m\n",
      "\u001b[34m[100]#011train-rmse:9.37912#011validation-rmse:9.38055\u001b[0m\n",
      "\u001b[34m[101]#011train-rmse:9.37540#011validation-rmse:9.37676\u001b[0m\n",
      "\u001b[34m[102]#011train-rmse:9.36789#011validation-rmse:9.36946\u001b[0m\n",
      "\u001b[34m[103]#011train-rmse:9.36714#011validation-rmse:9.36869\u001b[0m\n",
      "\u001b[34m[104]#011train-rmse:9.36502#011validation-rmse:9.36645\u001b[0m\n",
      "\u001b[34m[105]#011train-rmse:9.36169#011validation-rmse:9.36311\u001b[0m\n",
      "\u001b[34m[106]#011train-rmse:9.35836#011validation-rmse:9.35997\u001b[0m\n",
      "\u001b[34m[107]#011train-rmse:9.35534#011validation-rmse:9.35708\u001b[0m\n"
     ]
    },
    {
     "name": "stdout",
     "output_type": "stream",
     "text": [
      "\u001b[34m[108]#011train-rmse:9.35254#011validation-rmse:9.35401\u001b[0m\n",
      "\u001b[34m[109]#011train-rmse:9.34938#011validation-rmse:9.35078\u001b[0m\n",
      "\u001b[34m[110]#011train-rmse:9.34882#011validation-rmse:9.35013\u001b[0m\n",
      "\u001b[34m[111]#011train-rmse:9.34620#011validation-rmse:9.34771\u001b[0m\n",
      "\u001b[34m[112]#011train-rmse:9.34368#011validation-rmse:9.34512\u001b[0m\n",
      "\u001b[34m[113]#011train-rmse:9.34283#011validation-rmse:9.34412\u001b[0m\n",
      "\u001b[34m[114]#011train-rmse:9.33851#011validation-rmse:9.34007\u001b[0m\n",
      "\u001b[34m[115]#011train-rmse:9.33566#011validation-rmse:9.33740\u001b[0m\n",
      "\u001b[34m[116]#011train-rmse:9.33249#011validation-rmse:9.33421\u001b[0m\n",
      "\u001b[34m[117]#011train-rmse:9.32887#011validation-rmse:9.33061\u001b[0m\n",
      "\u001b[34m[118]#011train-rmse:9.32503#011validation-rmse:9.32683\u001b[0m\n",
      "\u001b[34m[119]#011train-rmse:9.32062#011validation-rmse:9.32245\u001b[0m\n",
      "\u001b[34m[120]#011train-rmse:9.31668#011validation-rmse:9.31860\u001b[0m\n",
      "\u001b[34m[121]#011train-rmse:9.31287#011validation-rmse:9.31470\u001b[0m\n",
      "\u001b[34m[122]#011train-rmse:9.30678#011validation-rmse:9.30873\u001b[0m\n",
      "\u001b[34m[123]#011train-rmse:9.30419#011validation-rmse:9.30588\u001b[0m\n",
      "\u001b[34m[124]#011train-rmse:9.30106#011validation-rmse:9.30232\u001b[0m\n",
      "\u001b[34m[125]#011train-rmse:9.29467#011validation-rmse:9.29606\u001b[0m\n",
      "\u001b[34m[126]#011train-rmse:9.29225#011validation-rmse:9.29357\u001b[0m\n",
      "\u001b[34m[127]#011train-rmse:9.28752#011validation-rmse:9.28900\u001b[0m\n",
      "\u001b[34m[128]#011train-rmse:9.28617#011validation-rmse:9.28774\u001b[0m\n",
      "\u001b[34m[129]#011train-rmse:9.28393#011validation-rmse:9.28560\u001b[0m\n",
      "\u001b[34m[130]#011train-rmse:9.28343#011validation-rmse:9.28512\u001b[0m\n",
      "\u001b[34m[131]#011train-rmse:9.27826#011validation-rmse:9.27993\u001b[0m\n",
      "\u001b[34m[132]#011train-rmse:9.27648#011validation-rmse:9.27826\u001b[0m\n",
      "\u001b[34m[133]#011train-rmse:9.27189#011validation-rmse:9.27398\u001b[0m\n",
      "\u001b[34m[134]#011train-rmse:9.26847#011validation-rmse:9.27070\u001b[0m\n",
      "\u001b[34m[135]#011train-rmse:9.26520#011validation-rmse:9.26772\u001b[0m\n",
      "\u001b[34m[136]#011train-rmse:9.26348#011validation-rmse:9.26617\u001b[0m\n",
      "\u001b[34m[137]#011train-rmse:9.25843#011validation-rmse:9.26130\u001b[0m\n",
      "\u001b[34m[138]#011train-rmse:9.25638#011validation-rmse:9.25907\u001b[0m\n",
      "\u001b[34m[139]#011train-rmse:9.25071#011validation-rmse:9.25342\u001b[0m\n",
      "\u001b[34m[140]#011train-rmse:9.24819#011validation-rmse:9.25074\u001b[0m\n",
      "\u001b[34m[141]#011train-rmse:9.24562#011validation-rmse:9.24819\u001b[0m\n",
      "\u001b[34m[142]#011train-rmse:9.24152#011validation-rmse:9.24403\u001b[0m\n",
      "\u001b[34m[143]#011train-rmse:9.23640#011validation-rmse:9.23876\u001b[0m\n",
      "\u001b[34m[144]#011train-rmse:9.23395#011validation-rmse:9.23714\u001b[0m\n",
      "\u001b[34m[145]#011train-rmse:9.22955#011validation-rmse:9.23273\u001b[0m\n",
      "\u001b[34m[146]#011train-rmse:9.22901#011validation-rmse:9.23221\u001b[0m\n",
      "\u001b[34m[147]#011train-rmse:9.22473#011validation-rmse:9.22798\u001b[0m\n",
      "\u001b[34m[148]#011train-rmse:9.22125#011validation-rmse:9.22493\u001b[0m\n",
      "\u001b[34m[149]#011train-rmse:9.21853#011validation-rmse:9.22226\u001b[0m\n",
      "\n",
      "2021-08-26 13:38:57 Uploading - Uploading generated training model\n",
      "2021-08-26 13:38:57 Completed - Training job completed\n",
      "Training seconds: 406\n",
      "Billable seconds: 154\n",
      "Managed Spot Training savings: 62.1%\n"
     ]
    }
   ],
   "source": [
    "estimator.fit(data_channels)"
   ]
  },
  {
   "cell_type": "code",
   "execution_count": 16,
   "metadata": {},
   "outputs": [
    {
     "name": "stdout",
     "output_type": "stream",
     "text": [
      "-------------!"
     ]
    }
   ],
   "source": [
    "predictor = estimator.deploy(initial_instance_count=1,\n",
    "                             instance_type='ml.m5.xlarge',\n",
    "                             endpoint_name = job_name)"
   ]
  },
  {
   "cell_type": "code",
   "execution_count": null,
   "metadata": {},
   "outputs": [],
   "source": []
  }
 ],
 "metadata": {
  "kernelspec": {
   "display_name": "conda_python3",
   "language": "python",
   "name": "conda_python3"
  },
  "language_info": {
   "codemirror_mode": {
    "name": "ipython",
    "version": 3
   },
   "file_extension": ".py",
   "mimetype": "text/x-python",
   "name": "python",
   "nbconvert_exporter": "python",
   "pygments_lexer": "ipython3",
   "version": "3.6.13"
  }
 },
 "nbformat": 4,
 "nbformat_minor": 2
}
