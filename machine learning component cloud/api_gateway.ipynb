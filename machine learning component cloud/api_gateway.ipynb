{
 "cells": [
  {
   "cell_type": "code",
   "execution_count": 1,
   "metadata": {},
   "outputs": [],
   "source": [
    "# Invoke API Gateway Endpoint\n",
    "# This example shows how to invoke SageMaker Endpoint from outside of AWS environment using API Gateway\n",
    "# Ref: https://stackoverflow.com/questions/17301938/making-a-request-to-a-restful-api-using-python\n",
    "\n",
    "# Common Data Formats\n",
    "# https://docs.aws.amazon.com/sagemaker/latest/dg/cdf-inference.html\n",
    "\n",
    "# Endpoint: XGBoost - Kaggle Bike Rental - Regressor Trained in XGBoost Lectures\n",
    "# Makesure Endpoint is deployed before running this example"
   ]
  },
  {
   "cell_type": "code",
   "execution_count": 13,
   "metadata": {},
   "outputs": [],
   "source": [
    "import requests\n",
    "import json"
   ]
  },
  {
   "cell_type": "code",
   "execution_count": 14,
   "metadata": {},
   "outputs": [],
   "source": [
    "# Update the URL to point to your API Gateway endpoint\n",
    "url = 'https://nle0yvx402.execute-api.us-east-1.amazonaws.com/beta'"
   ]
  },
  {
   "cell_type": "code",
   "execution_count": 15,
   "metadata": {},
   "outputs": [],
   "source": [
    "# Raw Data\n",
    "#\"Location\",\"Instance Type\",\"Operating System\",\"day\",\"month\",\"year\"\n",
    "\n",
    "sample_one = [0,2,3,9,12,2020]\n",
    "\n",
    "sample_two = [1,3,2,3,4,2021]\n",
    "\n",
    "sample_three = [2,1,1,2,3,2021]"
   ]
  },
  {
   "cell_type": "code",
   "execution_count": 16,
   "metadata": {},
   "outputs": [],
   "source": [
    "# Single Observation\n",
    "request = {\n",
    "    \"instances\": [\n",
    "        {\n",
    "            \"features\": sample_one\n",
    "        }\n",
    "    ]\n",
    "}"
   ]
  },
  {
   "cell_type": "code",
   "execution_count": 17,
   "metadata": {},
   "outputs": [
    {
     "data": {
      "text/plain": [
       "{'instances': [{'features': [0, 2, 3, 9, 12, 2020]}]}"
      ]
     },
     "execution_count": 17,
     "metadata": {},
     "output_type": "execute_result"
    }
   ],
   "source": [
    "request"
   ]
  },
  {
   "cell_type": "code",
   "execution_count": 18,
   "metadata": {},
   "outputs": [],
   "source": [
    "response = requests.post(url, data=json.dumps(request))\n",
    "result = response.json()"
   ]
  },
  {
   "cell_type": "code",
   "execution_count": 19,
   "metadata": {},
   "outputs": [
    {
     "name": "stdout",
     "output_type": "stream",
     "text": [
      "Predicted Count:  [4691372823281.99]\n"
     ]
    }
   ],
   "source": [
    "if result['statusCode'] == 200:\n",
    "    predictions = json.loads(result['body'])\n",
    "    print('Predicted Count: ', predictions)\n",
    "else:\n",
    "    print('Error',result['statusCode'], result['body'])"
   ]
  },
  {
   "cell_type": "code",
   "execution_count": 20,
   "metadata": {},
   "outputs": [],
   "source": [
    "# Multiple Observations\n",
    "request = {\n",
    "    \"instances\": [\n",
    "        # First instance.\n",
    "        {\n",
    "            \"features\": sample_one\n",
    "        },\n",
    "        # Second instance.\n",
    "        {\n",
    "            \"features\": sample_two\n",
    "        },\n",
    "        # Third instance.\n",
    "        {\n",
    "            \"features\": sample_three\n",
    "        }\n",
    "    ]\n",
    "}"
   ]
  },
  {
   "cell_type": "code",
   "execution_count": 21,
   "metadata": {},
   "outputs": [],
   "source": [
    "response = requests.post(url, data=json.dumps(request))"
   ]
  },
  {
   "cell_type": "code",
   "execution_count": 22,
   "metadata": {},
   "outputs": [],
   "source": [
    "result = response.json()"
   ]
  },
  {
   "cell_type": "code",
   "execution_count": 23,
   "metadata": {},
   "outputs": [
    {
     "name": "stdout",
     "output_type": "stream",
     "text": [
      "Predicted Count:  [4691372823281.99, 4691372823281.99, 4691372823281.99]\n"
     ]
    }
   ],
   "source": [
    "if result['statusCode'] == 200:\n",
    "    predictions = json.loads(result['body'])\n",
    "    print('Predicted Count: ', predictions)\n",
    "else:\n",
    "    print('Error',result['statusCode'], result['body'])"
   ]
  },
  {
   "cell_type": "code",
   "execution_count": 24,
   "metadata": {},
   "outputs": [
    {
     "data": {
      "text/plain": [
       "{'statusCode': 200,\n",
       " 'isBase64Encoded': False,\n",
       " 'body': '[4691372823281.99, 4691372823281.99, 4691372823281.99]'}"
      ]
     },
     "execution_count": 24,
     "metadata": {},
     "output_type": "execute_result"
    }
   ],
   "source": [
    "result"
   ]
  },
  {
   "cell_type": "code",
   "execution_count": null,
   "metadata": {},
   "outputs": [],
   "source": []
  }
 ],
 "metadata": {
  "kernelspec": {
   "display_name": "conda_python3",
   "language": "python",
   "name": "conda_python3"
  },
  "language_info": {
   "codemirror_mode": {
    "name": "ipython",
    "version": 3
   },
   "file_extension": ".py",
   "mimetype": "text/x-python",
   "name": "python",
   "nbconvert_exporter": "python",
   "pygments_lexer": "ipython3",
   "version": "3.6.13"
  }
 },
 "nbformat": 4,
 "nbformat_minor": 2
}
